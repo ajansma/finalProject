{
 "cells": [
  {
   "cell_type": "markdown",
   "metadata": {},
   "source": [
    "# Taking Netflix By Storm: The Correlation between Watching and the Weather\n",
    "Ariana Jansma  \n",
    "CPSC 222  \n",
    "Fall 2020  "
   ]
  },
  {
   "cell_type": "markdown",
   "metadata": {},
   "source": [
    "## Introduction\n",
    "### A. The Entertainment Domain\n",
    "My project will take place in the entertainment domain and deal primarily with my Netflix consumption patterns. Netflix and TV shows in general are certainly prevelant in my daily life. In general, I try to be careful about the amount of time I spend watching Netflix and consuming other digital media in order to ensure that I am not forgetting to live my life and that I am not getting addicted to watching certain shows. The entertainment domain is something that I am continuously aware of and trying to track in my everday life. It is certainly important for society as a whole to be looking into this domain, looking at the factors that impact our consumption within this domain, and reflecting on the impact that this domain has on our lives. I am reasearching this domain because I am particularly interested in finding out if factors outside of this domain, in this case weather, can have a significant impact on how much time we spend within the entertainment domain.  \n",
    "\n",
    "\n",
    "### B. Hypotheses\n",
    "My hypothesis about this domain is that I will find a correlation between my Netflix viewing habits and the weather. I believe that when the weather is colder, then my total time watching Netflix is above average. In addition to this, I also believe the opposite. When the weather is warmer, my total time watching Netflix is below my average. The impact of these results could help me in the long run as I try to be conscious and limit the amount of time I spend on Netflix. If I am aware that colder weather has an impact on my viewing patterns, it will help me to remember to be more conscious about it on days when the weather is colder. This may mean planning activities for myself on those days in advance or consciously reaching out to friends to hang out on colder days. My roommates are also stakeholders in this study due to the fact that I force them to watch Netflix with me in our apartment. If it is true that the weather affects our viewing patterns, then it is affecting my roommates as well as myself. Netflix as a company is also a stakeholder in this. If there are more people using their platform on a given day they need to make sure that everything is running smoothly and quickly. However, on a warmer day when not as many people are watching, it is not as likely that there will be problems on their platform.\n",
    "\n",
    "In this project, using the hypothesis from above, I compute a kNN classifier on the dataset. Using the temperature, precipitation, and category columns, the kNN classifier attempts to classify the Viewing Time category. The kNN classifier is compared to a Decision Tree and a Neural Network (MLP) classifier. The kNN classifier is tied with the Neural Network classifier as the best model for this dataset. However, those models are still not great. As this data is explored and analyzed, I found that there was not a significant relationship between the weather and the amount of viewing I did on a given day. This made it difficult to classify the results. "
   ]
  },
  {
   "cell_type": "markdown",
   "metadata": {},
   "source": [
    "## Data Analysis\n",
    "### A. Dataset Description\n",
    "The first table that will be used in the dataset is my Netflix data table. This table is downloaded from my account on Netflix. It is downloaded as a CSV file and contains three different attributes. The first is a categorical, specifically nominal, attribute, it is the name of the TV show/specific episode or movie that I watched. The second is an ordinal attribute, this attribute holds the date that the show or movie was watched. The final attribute for this table is continuous and contains the length of the show or movie that I watched. This attribute was added manually by me after the data was downloaded.    \n",
    "The second table that I want to join with the first is data from the MeteoStat API. The documentation about the API can be found at the following URL: https://dev.meteostat.net/docs/. There are three attributes that I will focus on. The first attribute is the date, this is the attribute that I plan to use as the key to merge the two datasets together. The second attribute is an interval attribute and will describe the average temperature in degrees Fahrenheit for that date. The third and fourth attributes are ratio attributes, with the third holding the amount of precipitation and snowfall for each date in the table."
   ]
  },
  {
   "cell_type": "markdown",
   "metadata": {},
   "source": [
    "### B. Data Preparation\n",
    "First the netflix data will be pulled from the netflix_viewing_data.csv file in the files folder."
   ]
  },
  {
   "cell_type": "code",
   "execution_count": 161,
   "metadata": {},
   "outputs": [],
   "source": [
    "import pandas as pd\n",
    "import numpy as np\n",
    "import py_utils\n",
    "\n",
    "#load in netflix viewing data\n",
    "viewing_df = pd.read_csv(\"files/netflix_viewing_data.csv\")"
   ]
  },
  {
   "cell_type": "markdown",
   "metadata": {},
   "source": [
    "Now the weather data will be pulled from the MeteoStat API using an API key specific to me. A response will be requested and the information will be be stored in a json object. "
   ]
  },
  {
   "cell_type": "code",
   "execution_count": 162,
   "metadata": {},
   "outputs": [],
   "source": [
    "# load in weather data from MeteoStat API\n",
    "import requests\n",
    "import json\n",
    "\n",
    "api_key = \"x4OYeAd2RgfD0XS6d6it41PRdVLdPE5C\"\n",
    "\n",
    "# meteostat API requires your API key be in the request headers, not in the url query params\n",
    "headers = {\"x-api-key\": api_key}\n",
    "\n",
    "# step 1: get the spokane weather station\n",
    "url = \"https://api.meteostat.net/v2/stations/search\"\n",
    "# add query params\n",
    "url += \"?query=spokane\"\n",
    "\n",
    "response = requests.get(url=url, headers=headers)\n",
    "json_object = json.loads(response.text)\n",
    "data_object = json_object[\"data\"][0]\n",
    "spokane_id = data_object[\"id\"]\n",
    "\n",
    "\n",
    "# step #2: use spokane weather station id to get daily weather for all of 2020\n",
    "url = \"https://api.meteostat.net/v2/stations/daily\"\n",
    "# add query params\n",
    "url += \"?station=\"\n",
    "url += spokane_id\n",
    "url += \"&start=2020-08-29\"\n",
    "url += \"&end=2020-10-30\"\n",
    "\n",
    "response = requests.get(url=url, headers=headers)\n",
    "json_object = json.loads(response.text)"
   ]
  },
  {
   "cell_type": "markdown",
   "metadata": {},
   "source": [
    "The weather data has been pulled from the API into the json_object it can now be loaded into a DataFrame."
   ]
  },
  {
   "cell_type": "code",
   "execution_count": 163,
   "metadata": {},
   "outputs": [],
   "source": [
    "# create the necessary pandas object to hold the data\n",
    "data_object = json_object[\"data\"]\n",
    "# load in data\n",
    "weather_df = py_utils.load_weather(data_object)"
   ]
  },
  {
   "cell_type": "markdown",
   "metadata": {},
   "source": [
    "Both data sets will need to be cleaned before they can be merged. In the weather dataset, the precipitation and snow column will be cleaned by replacing the amount of precipitation with either a 0 or a 1 depending on whether or not there was precipitation on a given day. "
   ]
  },
  {
   "cell_type": "code",
   "execution_count": 164,
   "metadata": {},
   "outputs": [],
   "source": [
    "#clean precipitation column\n",
    "precip_ser = weather_df[\"prec\"]\n",
    "\n",
    "# if rain then 1, if not then 0\n",
    "for i in range (0, len(precip_ser)):\n",
    "    if precip_ser[i] > 0:\n",
    "        precip_ser.replace(precip_ser[i], 1, inplace=True)\n",
    "weather_df[\"prec\"] = precip_ser"
   ]
  },
  {
   "cell_type": "markdown",
   "metadata": {},
   "source": [
    "Further cleaning of the weather dataframe is also needed. Using the median temperature (60.8), a new column will be created that captures whether or not a temperature is above or below the median. A temperature will either be assigned \"low\" or \"high\" in the \"temp cat\" column. "
   ]
  },
  {
   "cell_type": "code",
   "execution_count": 165,
   "metadata": {},
   "outputs": [
    {
     "name": "stdout",
     "output_type": "stream",
     "text": [
      "Median temperature: 60.8\n"
     ]
    }
   ],
   "source": [
    "# find median for future split\n",
    "temp_ser = weather_df[\"tavg\"]\n",
    "temp_ser.sort_values()\n",
    "temp_median = temp_ser.median()\n",
    "print(\"Median temperature:\", temp_median)\n",
    "\n",
    "# add column to keep track of low/high\n",
    "temp_ser = weather_df[\"tavg\"] # get the unsorted series\n",
    "low_high_ser = pd.Series(dtype=int)\n",
    "for i in range (0, len(temp_ser)):\n",
    "    if temp_ser[i] < temp_median:\n",
    "        low_high_ser = low_high_ser.append(pd.Series(\"Low\"))\n",
    "    elif temp_ser[i] == temp_median or temp_ser[i] > temp_median:\n",
    "        low_high_ser = low_high_ser.append(pd.Series(\"High\"))\n",
    "        \n",
    "weather_df[\"temp cat\"] = low_high_ser.values\n",
    "weather_df.to_csv(\"files/spokane_weather_clean_data.csv\")"
   ]
  },
  {
   "cell_type": "markdown",
   "metadata": {},
   "source": [
    "The netflix dataset will now be cleaned. Rather than add the current DataFrame which includes each individual show title and watch time, I will create a new dataframe that only includes the date and the total watch time for that particular date. This new dataframe will be the one merged with the Spokane weather dataframe that was cleaned above. In order to do so, each date in the dataset will be put in a new dataframe in the format yyyy-mm-dd with no repeats in the dataframe and the watchtime on that date will be added together with the total being added to the new dataframe."
   ]
  },
  {
   "cell_type": "code",
   "execution_count": 166,
   "metadata": {},
   "outputs": [],
   "source": [
    "date_col = viewing_df[\"Date\"] #get date column\n",
    "time_col = viewing_df[\"Length\"] #get length column\n",
    "total_watch_df = pd.DataFrame() #create new df\n",
    "\n",
    "# create new series to add to df\n",
    "dates_no_repeats = pd.Series(dtype=int)\n",
    "total_watch_ser = pd.Series(dtype=int)\n",
    "\n",
    "# add each date to the dates_no_repeats sereis\n",
    "dates_no_repeats = py_utils.clean_dates()\n",
    "\n",
    "date_col = dates_no_repeats.values\n",
    "total_watch_df[\"Date\"] = dates_no_repeats.values # add to the df\n",
    "date_ser = total_watch_df[\"Date\"] # get the column from the df \n",
    "\n",
    "# add 0s to each value in total_watch_ser\n",
    "for i in range (len(total_watch_df[\"Date\"])):\n",
    "    total_watch_ser = total_watch_ser.append(pd.Series(0))\n",
    "\n",
    "total_watch_df[\"Viewing Time\"] = total_watch_ser.values # add to the df\n",
    "watch_ser = total_watch_df[\"Viewing Time\"].copy() # get the column for use below\n",
    "\n",
    "# add total times to each date\n",
    "for i in range(len(date_col)):\n",
    "    date = date_col[i] # get date from old df\n",
    "    for j in range(0, len(total_watch_df[\"Date\"])):\n",
    "        target_date = date_ser[j] # target date from new df\n",
    "        if date == target_date:\n",
    "            new_num = watch_ser[j] + time_col[i] # add current value to new value for each date\n",
    "            watch_ser[j] = new_num # set equal to new value\n",
    "            #total_watch_df.loc[\"Viewing time\", j] = new_num\n",
    "            \n",
    "total_watch_df[\"Viewing Time\"] = watch_ser.values "
   ]
  },
  {
   "cell_type": "markdown",
   "metadata": {},
   "source": [
    "Now that the two datasets are cleaned, they need to be merged. In the code cell below, the weather_df that contains the date, average temperature, precipation, and temp category will be merged with the total_watch_df that contains the date and total viewing time for that date. These two dataframes will be merged on the \"Date\" category and written to a csv file named \"merged_netflix_viewing_weather.csv\". "
   ]
  },
  {
   "cell_type": "code",
   "execution_count": 167,
   "metadata": {},
   "outputs": [],
   "source": [
    "# join the two datasets together\n",
    "merged_netflix_weather_df = total_watch_df.merge(weather_df, on=\"Date\")\n",
    "merged_netflix_weather_df.to_csv(\"files/merged_netflix_viewing_weather.csv\")"
   ]
  },
  {
   "cell_type": "markdown",
   "metadata": {},
   "source": [
    "### C. Exploratory Data Analysis\n",
    "The data has now been loaded, cleaned, and merged. At this point the exploratory data analysis and in depth data aggregation can begin. Before moving into more complex data aggregation techniques, I want to first show the initial relationship between the temperature and the number of minutes watched. This will be done directly below using a scatter plot that compares the viewing time (y axis) to the temperature (x axis). "
   ]
  },
  {
   "cell_type": "code",
   "execution_count": 168,
   "metadata": {},
   "outputs": [
    {
     "data": {
      "image/png": "[encoded data removed]",
      "text/plain": [
       "<Figure size 432x288 with 1 Axes>"
      ]
     },
     "metadata": {
      "needs_background": "light"
     },
     "output_type": "display_data"
    }
   ],
   "source": [
    "# create a scatter plot showing the initial relationship between the two data sets\n",
    "import numpy as np\n",
    "import matplotlib.pyplot as plt\n",
    "\n",
    "py_utils.scatter_plot(merged_netflix_weather_df)"
   ]
  },
  {
   "cell_type": "markdown",
   "metadata": {},
   "source": [
    "The scatter plot above does not clearly show a relationship between the temperature and the number of minutes watched. In order to get a clearer picture of the meaning behind and the answer to our hypotheses, more data aggregation and relationship tests will need to be computed.  \n",
    "The next visualization will be between the precipitation and the amount of time viewed. This will be done using a bar graph. The blue bar is the mean amount of time watched when there was precipitation reported on that day and the orange bar is the mean amount of time when no precipitation was reported on that day. "
   ]
  },
  {
   "cell_type": "code",
   "execution_count": 169,
   "metadata": {},
   "outputs": [
    {
     "data": {
      "image/png": "[encoded data removed]",
      "text/plain": [
       "<Figure size 432x288 with 1 Axes>"
      ]
     },
     "metadata": {
      "needs_background": "light"
     },
     "output_type": "display_data"
    }
   ],
   "source": [
    "prec_ser = pd.Series(dtype=float)\n",
    "no_prec_ser = pd.Series(dtype=float)\n",
    "prec_ser, no_prec_ser = py_utils.graph_bar(merged_netflix_weather_df)"
   ]
  },
  {
   "cell_type": "markdown",
   "metadata": {},
   "source": [
    "Once again, this graph shows no real relationship between precipitation and the amount of time spent watching netflix. To ensure that this is actually the case, further investigation is necessary. \n",
    "\n",
    "In dorder to continue perfomring data aggregation on the dataset, the data will undergo a split based on the \"Temp Category\" column. All of the dates with a \"Low\" category will be gathered into a dataframe while all of the dates with a \"High\" category will be gathered into a different dataframe. After this, the mean and standard deviation will be calculated for each group.\n",
    "\n",
    "Mean will be calculated using this formula: $\\overline{x} = \\frac{\\sum x}{n}$  \n",
    "Standard Deviation will be calculated using this formula: $s = \\sqrt{\\frac{\\sum (x - \\overline{x})^2}{n - 1}}$"
   ]
  },
  {
   "cell_type": "code",
   "execution_count": 170,
   "metadata": {},
   "outputs": [
    {
     "name": "stdout",
     "output_type": "stream",
     "text": [
      "Mean of low category 21.322580645161292\n",
      "Mean of high category 19.84375\n",
      "\n",
      "Standard deviation of low category 21.967228768894504\n",
      "Standard deviation of high category 18.212206780246362\n"
     ]
    }
   ],
   "source": [
    "# split the dataset\n",
    "low_temp_df = pd.DataFrame()\n",
    "high_temp_df = pd.DataFrame()\n",
    "grouped_by_temp_category = merged_netflix_weather_df.groupby(\"temp cat\")\n",
    "for group_name, group_df in grouped_by_temp_category:\n",
    "    if group_name == \"Low\":\n",
    "        low_temp_df = group_df\n",
    "    elif group_name == \"High\":\n",
    "        high_temp_df = group_df\n",
    "\n",
    "# find mean viewing time of both groups\n",
    "viewing_time_low_ser = low_temp_df[\"Viewing Time\"]\n",
    "viewing_time_high_ser = high_temp_df[\"Viewing Time\"]\n",
    "print(\"Mean of low category\", viewing_time_low_ser.mean())\n",
    "print(\"Mean of high category\", viewing_time_high_ser.mean())\n",
    "print()\n",
    "\n",
    "# find the standard deviation of each group\n",
    "print(\"Standard deviation of low category\", viewing_time_low_ser.std())\n",
    "print(\"Standard deviation of high category\", viewing_time_high_ser.std())"
   ]
  },
  {
   "cell_type": "markdown",
   "metadata": {},
   "source": [
    "Looking at these raw stats from above, the mean of the low temperature is higher than the mean of the high category, however, the standard deviation of the low category is larger than the mean of the low category. To get a better sense of where the mean of each category confidence intervals will be computed for each category. Using the above mean and standard deviation of each temperature category, the confidence intervals will be computed. These confidence intervals will be found at 95%. \n",
    "\n",
    "The formula used for each confidence interval is: ($\\overline{x} - t\\frac{x}{\\sqrt{n}}, \\overline{x} + t\\frac{x}{\\sqrt{n}}$)"
   ]
  },
  {
   "cell_type": "code",
   "execution_count": 171,
   "metadata": {},
   "outputs": [
    {
     "name": "stdout",
     "output_type": "stream",
     "text": [
      "Low temp confidence interval: (13.266011037879581, 29.379150252443004)\n",
      "High temp confidence interval: (13.26954380605391, 26.41795619394609)\n"
     ]
    }
   ],
   "source": [
    "# Find the Confidence Interval at 95%\n",
    "#low weather \n",
    "Xbar_low = viewing_time_low_ser.mean()\n",
    "std_low = viewing_time_low_ser.std()\n",
    "n = len(viewing_time_low_ser)\n",
    "t = 2.042\n",
    "\n",
    "margin_of_error = t * std_low / np.sqrt(n)\n",
    "conf_interval_low_temp = (Xbar_low - margin_of_error, Xbar_low + margin_of_error)\n",
    "print(\"Low temp confidence interval:\", conf_interval_low_temp)\n",
    "\n",
    "#high weather \n",
    "Xbar_high = viewing_time_high_ser.mean()\n",
    "std_high = viewing_time_high_ser.std()\n",
    "n = len(viewing_time_high_ser)\n",
    "t = 2.042\n",
    "\n",
    "margin_of_error = t * std_high / np.sqrt(n)\n",
    "conf_interval_high_temp = (Xbar_high - margin_of_error, Xbar_high + margin_of_error)\n",
    "print(\"High temp confidence interval:\", conf_interval_high_temp)"
   ]
  },
  {
   "cell_type": "markdown",
   "metadata": {},
   "source": [
    "The confidence intervals for each group have a very large range. In order to better show this relationship, the confidence interval for each will be shown in a graph below. "
   ]
  },
  {
   "cell_type": "code",
   "execution_count": 172,
   "metadata": {},
   "outputs": [
    {
     "data": {
      "image/png": "[encoded data removed]",
      "text/plain": [
       "<Figure size 432x288 with 1 Axes>"
      ]
     },
     "metadata": {
      "needs_background": "light"
     },
     "output_type": "display_data"
    }
   ],
   "source": [
    "py_utils.confidence_interval_graph(conf_interval_low_temp, Xbar_low, conf_interval_high_temp, Xbar_high)"
   ]
  },
  {
   "cell_type": "markdown",
   "metadata": {},
   "source": [
    "As shown in the graph above, both temp categories have a fairly large confidence interval. At first glance, it appears that the low temp viewing mean could be higher than the high temp viewing mean but overall it does not look like there will be significant statistical difference between the two. This first glance analysis will be the basis of our first hypothesis test. "
   ]
  },
  {
   "cell_type": "markdown",
   "metadata": {},
   "source": [
    "#### Hypothesis Testing\n",
    "For this particular statistical hypothesis test, a 2 sample, independent, right tailed test to find out if I watched more netflix when the temperature was below 60.8 degrees (low category) than when the temperature was greater than or equal to 60.8 degrees (High category). We will be using a significance level of .05.\n",
    "\n",
    "Step 1:  \n",
    "$H_0: \\mu_1 \\leq \\mu_2$  \n",
    "$H_0: \\mu_1 > \\mu_2$\n",
    "\n",
    "Step 2:  \n",
    "$\\alpha = .05$\n",
    "\n",
    "Step 3:  \n",
    "The appropriate t-test:  \n",
    "$t = \\frac{\\overline{x_1} - \\overline{x_2}}{\\sqrt{S_p^2(\\frac{1}{n_1} + \\frac{1}{n_2})}}$ \n",
    "\n",
    "Step 4:  \n",
    "Find t-critical:  \n",
    "* right tailed\n",
    "* $\\alpha = .05$\n",
    "* ddof = $n_1 + n_2 - 2$ = 31 + 32 - 2 = 61\n",
    "\n",
    "t-critical = 1.671\n",
    "\n",
    "Decision rule:  \n",
    "* If t-computed is > 1.671 then reject $H_0$  \n",
    "* If t-computed is $\\leq$ 1.671 then do not reject $H_0$\n",
    "\n",
    "Step 5:  \n",
    "t-test:  \n",
    "$t = \\frac{\\overline{x_1} - \\overline{x_2}}{\\sqrt{S_p^2(\\frac{1}{n_1} + \\frac{1}{n_2})}}$ \n",
    "\n",
    "In the code cell below the SciPy method `ttest_ind()` will be used to compute the above formula:"
   ]
  },
  {
   "cell_type": "code",
   "execution_count": 173,
   "metadata": {},
   "outputs": [
    {
     "name": "stdout",
     "output_type": "stream",
     "text": [
      "0.29127447793079436\n"
     ]
    }
   ],
   "source": [
    "import scipy.stats as stats\n",
    "\n",
    "t_value, p_value = stats.ttest_ind(viewing_time_low_ser.tolist(), viewing_time_high_ser.tolist())\n",
    "print(t_value)"
   ]
  },
  {
   "cell_type": "markdown",
   "metadata": {},
   "source": [
    "Since t-computed (.2913) is less than t-critical (1.671):\n",
    "* Do not reject $H_0$\n",
    "    * $\\mu_1 \\leq \\mu_2$\n",
    "* Cannot accept $H_1$\n",
    "    * $\\mu_1 > \\mu_2$\n",
    "    \n",
    "This conclusion will be checked using the p-value:"
   ]
  },
  {
   "cell_type": "code",
   "execution_count": 174,
   "metadata": {},
   "outputs": [
    {
     "name": "stdout",
     "output_type": "stream",
     "text": [
      "p-value: 0.38591478355639225\n"
     ]
    }
   ],
   "source": [
    "print(\"p-value:\", p_value / 2)"
   ]
  },
  {
   "cell_type": "markdown",
   "metadata": {},
   "source": [
    "Since the p-value (.3859) is greater than $\\alpha$ (.05), $H_0$ cannot be rejected.\n",
    "\n",
    "Conclusion: At the .05 level of significance, we can reasonable assume that the mean netflix time watching when the weather is \"low\" (less that 75 degrees) is less than or equal to the time spent watching when the weather is \"high\" (greater than or equal to 60.8 degrees).\n",
    "\n",
    "I want to compute another hypothesis test, this time based off of the relationship between time watched and if there was precipitation or not on that day. In a bar graph of the means above, it did not look as though there was a huge difference in the means. In this hypothesis test I will ensure that this is really the case. My hypothesis is that the mean time watched on precipitation days is greater than the time spent watching on non precipitation days."
   ]
  },
  {
   "cell_type": "markdown",
   "metadata": {},
   "source": [
    "Step 1:  \n",
    "$H_0: \\mu_1 \\leq \\mu_2$  \n",
    "$H_0: \\mu_1 > \\mu_2$\n",
    "\n",
    "Step 2:  \n",
    "$\\alpha = .05$\n",
    "\n",
    "Step 3:  \n",
    "The appropriate t-test:  \n",
    "$t = \\frac{\\overline{x_1} - \\overline{x_2}}{\\sqrt{S_p^2(\\frac{1}{n_1} + \\frac{1}{n_2})}}$ \n",
    "\n",
    "Step 4:  \n",
    "Find t-critical:  \n",
    "* right tailed\n",
    "* $\\alpha = .05$\n",
    "* ddof = $n_1 + n_2 - 2$ = 13 + 50 - 2 = 61\n",
    "\n",
    "t-critical = 1.671\n",
    "\n",
    "Decision rule:  \n",
    "* If t-computed is > 1.671 then reject $H_0$  \n",
    "* If t-computed is $\\leq$ 1.671 then do not reject $H_0$\n",
    "\n",
    "Step 5:  \n",
    "t-test:  \n",
    "$t = \\frac{\\overline{x_1} - \\overline{x_2}}{\\sqrt{S_p^2(\\frac{1}{n_1} + \\frac{1}{n_2})}}$ \n",
    "\n",
    "In the code cell below the SciPy method `ttest_ind()` will be used to compute the above formula:"
   ]
  },
  {
   "cell_type": "code",
   "execution_count": 175,
   "metadata": {},
   "outputs": [
    {
     "name": "stdout",
     "output_type": "stream",
     "text": [
      "13\n",
      "50\n",
      "t-value: 0.11693289941093575\n"
     ]
    }
   ],
   "source": [
    "print(len(prec_ser))\n",
    "print(len(no_prec_ser))\n",
    "import scipy.stats as stats\n",
    "\n",
    "t_value, p_value = stats.ttest_ind(prec_ser.tolist(), no_prec_ser.tolist())\n",
    "print(\"t-value:\", t_value)"
   ]
  },
  {
   "cell_type": "code",
   "execution_count": 176,
   "metadata": {},
   "outputs": [
    {
     "name": "stdout",
     "output_type": "stream",
     "text": [
      "p-value: 0.45364868751616666\n"
     ]
    }
   ],
   "source": [
    "print(\"p-value:\", p_value / 2)"
   ]
  },
  {
   "cell_type": "markdown",
   "metadata": {},
   "source": [
    "Since the p-value (.4536) is greater than $\\alpha$ (.05), $H_0$ cannot be rejected and we fail to accept $H_1$.\n",
    "\n",
    "Conclusion: At the .05 level of significance, we can reasonable assume that the mean netflix time watching when the weather there is precipitation (rain or snow) is not greater than the mean time spent watching netflix on days when there was no netflix. \n",
    "\n",
    "Neither of the hypothesis tests showed a statistical reason to think that a certain feature is responsible for determining the amount I watched in a given day. "
   ]
  },
  {
   "cell_type": "markdown",
   "metadata": {},
   "source": [
    "### C. Classification\n",
    "A kNN classification will be performed on the dataset and compared to a Decision Tree Classifier and a ... I do not expect the classifications to be overly accurate due to the assumptions the fact that neither of the hypothesis tests proved to be statistically significant. \n",
    "\n",
    "For classification of the dataset, I would like to use all of the weather data in my dataframe, including the tavg, prec, and the temp category in order to find out if I watched more than average or less that average. This will include pulling the viewing time column away from rest of the dataset and making it into a binary classification or either high or low, similarly to what I did with the 'temp cat' column. This will be the first thing that I will do below."
   ]
  },
  {
   "cell_type": "code",
   "execution_count": 177,
   "metadata": {},
   "outputs": [],
   "source": [
    "viewing_column = merged_netflix_weather_df[\"Viewing Time\"]\n",
    "viewing_median = viewing_column.median()\n",
    "binary_viewing_ser = pd.Series(dtype=float)\n",
    "\n",
    "for i in range (0, len(viewing_column)):\n",
    "    if viewing_column[i] < viewing_median:\n",
    "        binary_viewing_ser = binary_viewing_ser.append(pd.Series(0))\n",
    "    elif viewing_column[i] == viewing_median or viewing_column[i] > viewing_median:\n",
    "        binary_viewing_ser = binary_viewing_ser.append(pd.Series(1))\n",
    "# 0 is below median, 1 is above the median"
   ]
  },
  {
   "cell_type": "markdown",
   "metadata": {},
   "source": [
    "In this new series, 0 represents a below average viewing day and a 1 represents an above average viewing day. This attribute will be used as the class information and is what will try to be predicted. \n",
    "\n",
    "The next preprocessing step that needs to be completed is the temp cat column will be transformed from Strings to numerical data with 0 being high and 1 being low. this will be done using the `preprocessing` module from the `sklearn` class. "
   ]
  },
  {
   "cell_type": "code",
   "execution_count": 178,
   "metadata": {},
   "outputs": [],
   "source": [
    "# Convert temp cat to numerical\n",
    "from sklearn import preprocessing\n",
    "label_encoder = preprocessing.LabelEncoder()\n",
    "\n",
    "merged_netflix_weather_df[\"temp cat\"] = label_encoder.fit_transform(merged_netflix_weather_df[\"temp cat\"])\n",
    "# 0 is high, 1 is low"
   ]
  },
  {
   "cell_type": "markdown",
   "metadata": {},
   "source": [
    "Now the \"Viewing time\" column that will be used as the classifier will be dropped as well as the \"Date\" column which is unhelpful when classifying the data."
   ]
  },
  {
   "cell_type": "code",
   "execution_count": 179,
   "metadata": {},
   "outputs": [],
   "source": [
    "# get the temp cat column for testing\n",
    "merged_netflix_weather_df.drop(\"Viewing Time\", 1, inplace = True)\n",
    "merged_netflix_weather_df.drop(\"Date\", 1, inplace = True)"
   ]
  },
  {
   "cell_type": "markdown",
   "metadata": {},
   "source": [
    "Finally the dataset will be normalized before the classification process begins."
   ]
  },
  {
   "cell_type": "code",
   "execution_count": 180,
   "metadata": {},
   "outputs": [],
   "source": [
    "# normalize the values\n",
    "from sklearn.preprocessing import MinMaxScaler\n",
    "\n",
    "scaler = MinMaxScaler()\n",
    "merged_netflix_weather_df = scaler.fit_transform(merged_netflix_weather_df)"
   ]
  },
  {
   "cell_type": "markdown",
   "metadata": {},
   "source": [
    "The kNN classifier is being used to classify the data. First the hold out method is used with random state being 1 for reproducibility. After testing a few different k numbers, 7 produced the highest accuracy at 68.8%."
   ]
  },
  {
   "cell_type": "code",
   "execution_count": 181,
   "metadata": {},
   "outputs": [
    {
     "name": "stdout",
     "output_type": "stream",
     "text": [
      "Accuracy: 0.6875\n"
     ]
    }
   ],
   "source": [
    "# hold out method\n",
    "from sklearn.model_selection import train_test_split\n",
    "X_train, X_test, y_train, y_test = train_test_split(merged_netflix_weather_df, binary_viewing_ser, random_state=1, stratify=binary_viewing_ser)\n",
    "\n",
    "#kNN\n",
    "from sklearn.neighbors import KNeighborsClassifier\n",
    "\n",
    "clf = KNeighborsClassifier(n_neighbors=7, metric=\"euclidean\")\n",
    "clf.fit(X_train, y_train)\n",
    "\n",
    "y_predicted = clf.predict(X_test)\n",
    "\n",
    "accuracy = clf.score(X_test, y_test)\n",
    "print(\"Accuracy:\", accuracy)"
   ]
  },
  {
   "cell_type": "markdown",
   "metadata": {},
   "source": [
    "Just to ensure that this was the best method to use with the kNN classifier, the k Cross Fold method was used producing an accuracy of 66.7% and the random subsampling evaluation metric was used producing an accuracy of 59.7%. The hold out method was certainly the best method to pair with the kNN classifier. "
   ]
  },
  {
   "cell_type": "code",
   "execution_count": 182,
   "metadata": {},
   "outputs": [
    {
     "name": "stdout",
     "output_type": "stream",
     "text": [
      "Accuracy: 0.6666666666666666\n"
     ]
    }
   ],
   "source": [
    "# k cross fold validation\n",
    "from sklearn.model_selection import cross_val_predict\n",
    "from sklearn.metrics import accuracy_score\n",
    "\n",
    "y_predictions = cross_val_predict(clf, merged_netflix_weather_df, binary_viewing_ser, cv=5)\n",
    "accuracy = accuracy_score(binary_viewing_ser, y_predictions)\n",
    "print(\"Accuracy:\", accuracy)"
   ]
  },
  {
   "cell_type": "code",
   "execution_count": 183,
   "metadata": {},
   "outputs": [
    {
     "name": "stdout",
     "output_type": "stream",
     "text": [
      "Accuracy: 0.5972222222222222\n"
     ]
    }
   ],
   "source": [
    "# Random Subsampling\n",
    "score = 0\n",
    "for k in range (1, 10):\n",
    "    clf = KNeighborsClassifier(n_neighbors=k, metric=\"euclidean\")\n",
    "    clf.fit(X_train, y_train)\n",
    "    y_predicted = clf.predict(X_test)\n",
    "    accuracy = clf.score(X_test, y_test)\n",
    "    score = score + accuracy\n",
    "    \n",
    "random_acc = score / 9\n",
    "print(\"Accuracy:\", random_acc)"
   ]
  },
  {
   "cell_type": "markdown",
   "metadata": {},
   "source": [
    "Now the kNN classifier will be compared to two other classifier methods, the first being a Decision Tree Classifier. This will also be with random state = 1 for reproducability."
   ]
  },
  {
   "cell_type": "code",
   "execution_count": 184,
   "metadata": {},
   "outputs": [
    {
     "name": "stdout",
     "output_type": "stream",
     "text": [
      "Accuracy: 0.625\n"
     ]
    }
   ],
   "source": [
    "from sklearn.tree import DecisionTreeClassifier\n",
    "\n",
    "tree_clf = DecisionTreeClassifier(random_state=1)\n",
    "tree_clf.fit(X_train, y_train)\n",
    "y_predicted_tree = tree_clf.predict(X_test)\n",
    "accuracy_tree = tree_clf.score(X_test, y_test)\n",
    "print(\"Accuracy:\", accuracy_tree)"
   ]
  },
  {
   "cell_type": "markdown",
   "metadata": {},
   "source": [
    "The Decision tree classifier has an accuracy of 62.5% which is not quite as accurate as the kNN classifier seen above. \n",
    "\n",
    "The final classifier to be compared to the kNN classifier is a Neural Network classifier from the `sklearn.neural_network` class. This was a new classification method to me, so I used the scikit-learn website to help figure it out. The site I used can be found here: https://scikit-learn.org/stable/modules/generated/sklearn.neural_network.MLPClassifier.html"
   ]
  },
  {
   "cell_type": "code",
   "execution_count": 185,
   "metadata": {},
   "outputs": [
    {
     "name": "stdout",
     "output_type": "stream",
     "text": [
      "Accuracy: 0.6875\n"
     ]
    }
   ],
   "source": [
    "from sklearn.neural_network import MLPClassifier\n",
    "\n",
    "mlp = MLPClassifier(random_state = 1)\n",
    "mlp.fit(X_train, y_train)\n",
    "predictions = mlp.predict(X_test)\n",
    "accuracy = mlp.score(X_test, y_test)\n",
    "print(\"Accuracy:\", accuracy)"
   ]
  },
  {
   "cell_type": "markdown",
   "metadata": {},
   "source": [
    "The MLP classifier had an accuracy of 68.8% which is the same percentage as the kNN classifier as above. \n",
    "\n",
    "Each classification process was computed using the holdout method and then the prediction was compared to the y_test with the accuracy being printed out. Overall, the MLP and the kNN classifiers worked the best on this dataset with the Decision Tree classifier having a lower accuracy overall. "
   ]
  },
  {
   "cell_type": "markdown",
   "metadata": {},
   "source": [
    "## Conclusion: \n",
    "In this project, my personal netflix data was compared with the weather. The number of minutes I spent watching Netflix on each date was merged with weather data including the average temperature on a date and whether or not there was precipitation on a date. These two datasets merged became the data set for this project. Hypothesis tests were performed on this dataset to decipher if I watched more Netflix when the weather was colder and if I watched more when there was precipitation. The conclusion of both hypothesis tests was that we could not reject $H_0$ and could not affirm that it was greater on those days.  \n",
    "\n",
    "Due to the fact that none of the attributes proved to have a significant correlation with my viewing time, the classification process proved challenging. For the classification process, the Viewing Time column was the class attribute. The 'tavg', 'prec', and 'temp cat' columns were used to try to predict the viewing time column. A kNN classifier with a k of 7 was used to classify the dataset. The hold out method was used to separate the dataset into training and testing sets. This produced an accuracy of 68.8%. The kNN classifier was compared to a Decision Tree Classifier and a Neural Network Classifier. The kNN classifier was a better model than the Decision Tree Classifier but at less than 70% it is still not great. I think adding some of the watch data from my other streaming services might help the classifier. Having data from my other streaming services such as HBO Max and Disney Plus might make a clearer picture of my watch data in relation to the weather. In addition to this, having more data especially data from mid-summer and mid-winter would give a better overall picture of my watch habits in relation to weather changes. \n",
    "\n",
    "The entertainment domain has a big impact on a lot of lives. I know for myself, a lot of my time is spent watching and enjoying Netflix. As mentioned before, my roommates, Netflix, and I were all significant stakeholders in this project. The fact that I did not find significant evidence that I watch more Netflix on colder or rainy days still tells me something about my watching patterns. I do not need to be especially aware on colder days to be conscious of my consumption. Although it is still a good idea to plan activities ahead and make a conscious effort to reach out to friends on colder days, it is not as necessary as I first thought it was. This also has implications for Netflix. As a business, Netflix is trying to get people to use their product as much as possible. If my hypothesis had been supported, this would mean that they could use extra advertising techniques on hotter days since people are less likely to binge on Netflix on those days. They also could have released new shows on colder days in order to get a bigger opening day watch number. Instead, they will need to look in another direction and produce a new hypothesis about people's watch patterns, this might include looking into the day of the week. This project certainly has ethical impacts. Consuming Netflix is a large part of many people's lives. The shows we watch and the amount we watch them have an impact on how our thoughts develop and how we feel about a given topic. It is important to be aware of what factors have an impact on what we watch and how much. We all know that Netflix has most likely already analyzed and manipulated our viewing patterns. If we are able to figure out ourselves what goes into our viewing patterns, we can better control those patterns. Knowledge is the first step in controlling how we live our lives. Although my hypothesis did not prove true, it is still an important study that gets me that much closer to understanding and more importantly controlling my viewing patterns for myself. "
   ]
  }
 ],
 "metadata": {
  "kernelspec": {
   "display_name": "Python 3",
   "language": "python",
   "name": "python3"
  },
  "language_info": {
   "codemirror_mode": {
    "name": "ipython",
    "version": 3
   },
   "file_extension": ".py",
   "mimetype": "text/x-python",
   "name": "python",
   "nbconvert_exporter": "python",
   "pygments_lexer": "ipython3",
   "version": "3.8.3"
  }
 },
 "nbformat": 4,
 "nbformat_minor": 4
}
