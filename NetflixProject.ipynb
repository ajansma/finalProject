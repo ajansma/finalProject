{
 "cells": [
  {
   "cell_type": "markdown",
   "metadata": {},
   "source": [
    "# Taking Netflix By Storm: The Correlation between Watching and the Weather"
   ]
  },
  {
   "cell_type": "markdown",
   "metadata": {},
   "source": [
    "## Introduction"
   ]
  },
  {
   "cell_type": "code",
   "execution_count": 1,
   "metadata": {},
   "outputs": [],
   "source": [
    "# load in netflix viewing data\n",
    "import pandas as pd\n",
    "import numpy as np\n",
    "\n",
    "viewing_df = pd.read_csv(\"netflix_viewing_data.csv\")"
   ]
  },
  {
   "cell_type": "code",
   "execution_count": 47,
   "metadata": {},
   "outputs": [],
   "source": [
    "# load in weather data\n",
    "spokane_weather_df = pd.read_csv(\"spokane_temp_precip_data.csv\")\n",
    "\n",
    "#clean precipitation column\n",
    "precip_ser = spokane_weather_df[\"Precipitation\"]\n",
    "# if rain then 1, if not then 0\n",
    "for i in range (0, len(precip_ser)):\n",
    "    if precip_ser[i] > 0:\n",
    "        precip_ser.replace(precip_ser[i], 1, inplace=True)\n",
    "        \n",
    "# find median for future split\n",
    "temp_ser = spokane_weather_df[\"High\"]\n",
    "temp_ser.sort_values()\n",
    "temp_median = temp_ser.median()\n",
    "\n",
    "# add column to keep track of low/high\n",
    "temp_ser = spokane_weather_df[\"High\"] # get the unsorted series\n",
    "low_high_ser = pd.Series(dtype=int)\n",
    "for i in range (0, len(temp_ser)):\n",
    "    if temp_ser[i] < temp_median:\n",
    "        low_high_ser = low_high_ser.append(pd.Series(\"Low\"))\n",
    "    elif temp_ser[i] == temp_median or temp_ser[i] > temp_median:\n",
    "        low_high_ser = low_high_ser.append(pd.Series(\"High\"))\n",
    "        \n",
    "spokane_weather_df[\"Temp Category\"] = low_high_ser.values\n",
    "spokane_weather_df.to_csv(\"spokane_temp_precip_clean_data.csv\")"
   ]
  },
  {
   "cell_type": "code",
   "execution_count": 115,
   "metadata": {},
   "outputs": [
    {
     "name": "stdout",
     "output_type": "stream",
     "text": [
      "        Date  Viewing Time\n",
      "0    8/29/20             0\n",
      "1    8/30/20             0\n",
      "2     9/1/20            44\n",
      "3     9/2/20           111\n",
      "4     9/3/20             0\n",
      "..       ...           ...\n",
      "57  10/26/20             0\n",
      "58  10/27/20            21\n",
      "59  10/28/20            42\n",
      "60  10/29/20             0\n",
      "61  10/30/20           292\n",
      "\n",
      "[62 rows x 2 columns]\n"
     ]
    },
    {
     "name": "stderr",
     "output_type": "stream",
     "text": [
      "<ipython-input-115-90932bcf5dbc>:34: SettingWithCopyWarning: \n",
      "A value is trying to be set on a copy of a slice from a DataFrame\n",
      "\n",
      "See the caveats in the documentation: https://pandas.pydata.org/pandas-docs/stable/user_guide/indexing.html#returning-a-view-versus-a-copy\n",
      "  watch_ser[j] = new_num\n"
     ]
    }
   ],
   "source": [
    "# create column that sums the viewing number for each date\n",
    "date_col = viewing_df[\"Date\"]\n",
    "time_col = viewing_df[\"Length\"]\n",
    "total_watch_df = pd.DataFrame()\n",
    "dates_no_repeats = pd.Series(dtype=int)\n",
    "total_watch_ser = pd.Series(dtype=int)\n",
    "\n",
    "for i in range (8, 11):\n",
    "    for j in range(1,31):\n",
    "        if i == 8 and j >= 29:\n",
    "            date_str = str(i) + \"/\" + str(j) + \"/20\"\n",
    "            dates_no_repeats = dates_no_repeats.append(pd.Series(date_str))\n",
    "        elif i == 9 or i == 10:\n",
    "            date_str = str(i) + \"/\" + str(j) + \"/20\"\n",
    "            dates_no_repeats = dates_no_repeats.append(pd.Series(date_str))\n",
    "\n",
    "total_watch_df[\"Date\"] = dates_no_repeats.values\n",
    "date_ser = total_watch_df[\"Date\"]\n",
    "\n",
    "for i in range (len(total_watch_df[\"Date\"])):\n",
    "    total_watch_ser = total_watch_ser.append(pd.Series(0))\n",
    "\n",
    "total_watch_df[\"Viewing Time\"] = total_watch_ser.values\n",
    "\n",
    "watch_ser = total_watch_df[\"Viewing Time\"]\n",
    "\n",
    "\n",
    "for i in range(len(date_col)):\n",
    "    date = date_col[i]\n",
    "    for j in range(0, len(total_watch_df[\"Date\"])):\n",
    "        target_date = date_ser[j]\n",
    "        if date == target_date:\n",
    "            new_num = watch_ser[j] + time_col[i]\n",
    "            watch_ser[j] = new_num\n",
    "            #total_watch_df.loc[\"Viewing time\", j] = new_num\n",
    "            \n",
    "#total_watch_df[\"Viewing Time\"] = watch_ser.values \n",
    "print(total_watch_df)"
   ]
  },
  {
   "cell_type": "code",
   "execution_count": 121,
   "metadata": {},
   "outputs": [
    {
     "data": {
      "text/plain": [
       "Text(0, 0.5, 'Minutes watched')"
      ]
     },
     "execution_count": 121,
     "metadata": {},
     "output_type": "execute_result"
    },
    {
     "data": {
      "image/png": "[encoded data removed]",
      "text/plain": [
       "<Figure size 432x288 with 1 Axes>"
      ]
     },
     "metadata": {
      "needs_background": "light"
     },
     "output_type": "display_data"
    }
   ],
   "source": [
    "# join the two datasets together\n",
    "merged_netflix_weather_df = total_watch_df.merge(spokane_weather_df, on=\"Date\")\n",
    "merged_netflix_weather_df.to_csv(\"merged_netflix_viewing_weather.csv\")\n",
    "\n",
    "# create a scatter plot showing the initial relationship between the two data sets\n",
    "import numpy as np\n",
    "import matplotlib.pyplot as plt\n",
    "\n",
    "plt.title(\"Viewing Time vs. Temperature\")\n",
    "plt.scatter(merged_netflix_weather_df[\"High\"], merged_netflix_weather_df[\"Viewing Time\"], s=20)\n",
    "plt.xlabel(\"Temperature (F)\")\n",
    "plt.ylabel(\"Minutes watched\")"
   ]
  },
  {
   "cell_type": "code",
   "execution_count": 4,
   "metadata": {},
   "outputs": [
    {
     "name": "stdout",
     "output_type": "stream",
     "text": [
      "Mean of low category 19.21212121212121\n",
      "Mean of high category 15.745098039215685\n",
      "\n",
      "Standard deviation of low category 17.50122206855207\n",
      "Standard deviation of high category 16.152824071666107\n"
     ]
    }
   ],
   "source": [
    "# split the dataset\n",
    "low_temp_df = pd.DataFrame()\n",
    "high_temp_df = pd.DataFrame()\n",
    "grouped_by_temp_category = merged_netflix_weather_df.groupby(\"Temp Category\")\n",
    "for group_name, group_df in grouped_by_temp_category:\n",
    "    if group_name == \"Low\":\n",
    "        low_temp_df = group_df\n",
    "    elif group_name == \"High\":\n",
    "        high_temp_df = group_df\n",
    "\n",
    "# find mean viewing of both groups\n",
    "viewing_time_low_ser = low_temp_df[\"Length\"]\n",
    "viewing_time_high_ser = high_temp_df[\"Length\"]\n",
    "print(\"Mean of low category\", viewing_time_low_ser.mean())\n",
    "print(\"Mean of high category\", viewing_time_high_ser.mean())\n",
    "print()\n",
    "\n",
    "# find the standard deviation of each group\n",
    "print(\"Standard deviation of low category\", viewing_time_low_ser.std())\n",
    "print(\"Standard deviation of high category\", viewing_time_high_ser.std())"
   ]
  },
  {
   "cell_type": "code",
   "execution_count": 5,
   "metadata": {},
   "outputs": [
    {
     "name": "stdout",
     "output_type": "stream",
     "text": [
      "Low temp confidence interval: (14.903618175364258, 23.520624248878164)\n",
      "High temp confidence interval: (11.22140246954323, 20.26879360888814)\n"
     ]
    }
   ],
   "source": [
    "# Find the Confidence Interval at 97.5%\n",
    "#low weather \n",
    "Xbar_low = viewing_time_low_ser.mean()\n",
    "std_low = viewing_time_low_ser.std()\n",
    "n = len(viewing_time_low_ser)\n",
    "t = 2.000\n",
    "margin_of_error = t * std_low / np.sqrt(n)\n",
    "conf_interval_low_temp = (Xbar_low - margin_of_error, Xbar_low + margin_of_error)\n",
    "print(\"Low temp confidence interval:\", conf_interval_low_temp)\n",
    "\n",
    "#high weather \n",
    "Xbar_high = viewing_time_high_ser.mean()\n",
    "std_high = viewing_time_high_ser.std()\n",
    "n = len(viewing_time_high_ser)\n",
    "t = 2.000\n",
    "margin_of_error = t * std_high / np.sqrt(n)\n",
    "conf_interval_high_temp = (Xbar_high - margin_of_error, Xbar_high + margin_of_error)\n",
    "print(\"High temp confidence interval:\", conf_interval_high_temp)"
   ]
  },
  {
   "cell_type": "code",
   "execution_count": 6,
   "metadata": {},
   "outputs": [
    {
     "data": {
      "text/plain": [
       "<matplotlib.legend.Legend at 0x7f8b724cf3a0>"
      ]
     },
     "execution_count": 6,
     "metadata": {},
     "output_type": "execute_result"
    },
    {
     "data": {
      "image/png": "[encoded data removed]",
      "text/plain": [
       "<Figure size 432x288 with 1 Axes>"
      ]
     },
     "metadata": {
      "needs_background": "light"
     },
     "output_type": "display_data"
    }
   ],
   "source": [
    "## graph them\n",
    "plt.figure()\n",
    "plt.title(\"Low and High Temp Watching Confidence Intervals\")\n",
    "\n",
    "plt.plot([.8, .8], conf_interval_low_temp, marker=\"_\", color=\"blue\")\n",
    "plt.plot([.8], [Xbar_low], marker=\"o\", color=\"blue\", label=\"Low Temp Viewing Time Mean\")\n",
    "\n",
    "plt.plot([1.2, 1.2], conf_interval_high_temp, marker=\"_\", color=\"red\")\n",
    "plt.plot([1.2], [Xbar_high], marker=\"o\", color=\"red\", label=\"High Temp Viewing Time Mean\")\n",
    "\n",
    "#set x and y limits\n",
    "plt.ylim([0, 25])\n",
    "plt.xlim([0.5, 1.5])\n",
    "plt.legend(loc='lower right')"
   ]
  },
  {
   "cell_type": "markdown",
   "metadata": {},
   "source": [
    "TODO:\n",
    "* create a hypothesis for testing(Go through all 5 steps) (Sunday)\n",
    "* write an introduction/commentary throughout (Sunday)"
   ]
  },
  {
   "cell_type": "markdown",
   "metadata": {},
   "source": [
    "## Data Analysis"
   ]
  },
  {
   "cell_type": "code",
   "execution_count": null,
   "metadata": {},
   "outputs": [],
   "source": []
  }
 ],
 "metadata": {
  "kernelspec": {
   "display_name": "Python 3",
   "language": "python",
   "name": "python3"
  },
  "language_info": {
   "codemirror_mode": {
    "name": "ipython",
    "version": 3
   },
   "file_extension": ".py",
   "mimetype": "text/x-python",
   "name": "python",
   "nbconvert_exporter": "python",
   "pygments_lexer": "ipython3",
   "version": "3.8.3"
  }
 },
 "nbformat": 4,
 "nbformat_minor": 4
}
